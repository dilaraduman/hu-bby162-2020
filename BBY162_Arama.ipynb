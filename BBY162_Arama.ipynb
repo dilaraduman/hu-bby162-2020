{
  "nbformat": 4,
  "nbformat_minor": 0,
  "metadata": {
    "colab": {
      "name": "BBY162 - Arama.ipynb",
      "provenance": [],
      "collapsed_sections": [],
      "authorship_tag": "ABX9TyPOoKabZ/71Q5KbhpQRQjRG",
      "include_colab_link": true
    },
    "kernelspec": {
      "name": "python3",
      "display_name": "Python 3"
    }
  },
  "cells": [
    {
      "cell_type": "markdown",
      "metadata": {
        "id": "view-in-github",
        "colab_type": "text"
      },
      "source": [
        "<a href=\"https://colab.research.google.com/github/orcunmadran/hu-bby162-2020/blob/master/BBY162_Arama.ipynb\" target=\"_parent\"><img src=\"https://colab.research.google.com/assets/colab-badge.svg\" alt=\"Open In Colab\"/></a>"
      ]
    },
    {
      "cell_type": "code",
      "metadata": {
        "id": "MVmHSPJcGuE1",
        "colab_type": "code",
        "colab": {}
      },
      "source": [
        "#Google Drive Bağlantısı\n",
        "from google.colab import drive\n",
        "drive.mount('/gdrive')\n",
        "dosya = \"/gdrive/My Drive/Colab Notebooks/BBY162 - Arama/kitap_listesi.txt\"\n",
        "\n",
        "okunanVeri = []\n",
        "\n",
        "f = open(dosya, \"r\") \n",
        "\n",
        "for line in f.readlines():\n",
        "    okunanVeri.append(line)\n",
        "\n",
        "print(okunanVeri)\n",
        "\n",
        "arama = input(\"Anahtar Kelime: \")\n",
        "kayitNo = 0\n",
        "\n",
        "for ara in okunanVeri:\n",
        "  if(arama in ara):\n",
        "    print(ara)\n",
        "    print(okunanVeri[kayitNo])\n",
        "    kayitNo +=1\n",
        "  else:\n",
        "    print(\"Kayıt Yok!\")\n",
        "\n",
        "\n",
        "f.close()"
      ],
      "execution_count": 0,
      "outputs": []
    }
  ]
}